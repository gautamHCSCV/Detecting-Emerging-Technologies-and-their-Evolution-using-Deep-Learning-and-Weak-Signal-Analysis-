{
 "cells": [
  {
   "cell_type": "code",
   "execution_count": 1,
   "id": "8d969f6e",
   "metadata": {},
   "outputs": [],
   "source": [
    "import pandas as pd\n",
    "import numpy as np\n",
    "import matplotlib.pyplot as plt\n",
    "import csv\n",
    "import os\n",
    "import torch\n",
    "import pickle\n",
    "import warnings\n",
    "from collections import defaultdict, Counter\n",
    "warnings.filterwarnings('ignore')"
   ]
  },
  {
   "cell_type": "code",
   "execution_count": 2,
   "id": "3ae034b9",
   "metadata": {},
   "outputs": [
    {
     "name": "stdout",
     "output_type": "stream",
     "text": [
      "(7241, 7)\n"
     ]
    },
    {
     "data": {
      "text/html": [
       "<div>\n",
       "<style scoped>\n",
       "    .dataframe tbody tr th:only-of-type {\n",
       "        vertical-align: middle;\n",
       "    }\n",
       "\n",
       "    .dataframe tbody tr th {\n",
       "        vertical-align: top;\n",
       "    }\n",
       "\n",
       "    .dataframe thead th {\n",
       "        text-align: right;\n",
       "    }\n",
       "</style>\n",
       "<table border=\"1\" class=\"dataframe\">\n",
       "  <thead>\n",
       "    <tr style=\"text-align: right;\">\n",
       "      <th></th>\n",
       "      <th>id</th>\n",
       "      <th>year</th>\n",
       "      <th>title</th>\n",
       "      <th>event_type</th>\n",
       "      <th>pdf_name</th>\n",
       "      <th>abstract</th>\n",
       "      <th>paper_text</th>\n",
       "    </tr>\n",
       "  </thead>\n",
       "  <tbody>\n",
       "    <tr>\n",
       "      <th>0</th>\n",
       "      <td>1</td>\n",
       "      <td>1987</td>\n",
       "      <td>Self-Organization of Associative Database and ...</td>\n",
       "      <td>NaN</td>\n",
       "      <td>1-self-organization-of-associative-database-an...</td>\n",
       "      <td>Abstract Missing</td>\n",
       "      <td>767\\n\\nSELF-ORGANIZATION OF ASSOCIATIVE DATABA...</td>\n",
       "    </tr>\n",
       "    <tr>\n",
       "      <th>1</th>\n",
       "      <td>10</td>\n",
       "      <td>1987</td>\n",
       "      <td>A Mean Field Theory of Layer IV of Visual Cort...</td>\n",
       "      <td>NaN</td>\n",
       "      <td>10-a-mean-field-theory-of-layer-iv-of-visual-c...</td>\n",
       "      <td>Abstract Missing</td>\n",
       "      <td>683\\n\\nA MEAN FIELD THEORY OF LAYER IV OF VISU...</td>\n",
       "    </tr>\n",
       "    <tr>\n",
       "      <th>2</th>\n",
       "      <td>100</td>\n",
       "      <td>1988</td>\n",
       "      <td>Storing Covariance by the Associative Long-Ter...</td>\n",
       "      <td>NaN</td>\n",
       "      <td>100-storing-covariance-by-the-associative-long...</td>\n",
       "      <td>Abstract Missing</td>\n",
       "      <td>394\\n\\nSTORING COVARIANCE BY THE ASSOCIATIVE\\n...</td>\n",
       "    </tr>\n",
       "    <tr>\n",
       "      <th>3</th>\n",
       "      <td>1000</td>\n",
       "      <td>1994</td>\n",
       "      <td>Bayesian Query Construction for Neural Network...</td>\n",
       "      <td>NaN</td>\n",
       "      <td>1000-bayesian-query-construction-for-neural-ne...</td>\n",
       "      <td>Abstract Missing</td>\n",
       "      <td>Bayesian Query Construction for Neural\\nNetwor...</td>\n",
       "    </tr>\n",
       "    <tr>\n",
       "      <th>4</th>\n",
       "      <td>1001</td>\n",
       "      <td>1994</td>\n",
       "      <td>Neural Network Ensembles, Cross Validation, an...</td>\n",
       "      <td>NaN</td>\n",
       "      <td>1001-neural-network-ensembles-cross-validation...</td>\n",
       "      <td>Abstract Missing</td>\n",
       "      <td>Neural Network Ensembles, Cross\\nValidation, a...</td>\n",
       "    </tr>\n",
       "  </tbody>\n",
       "</table>\n",
       "</div>"
      ],
      "text/plain": [
       "     id  year                                              title event_type  \\\n",
       "0     1  1987  Self-Organization of Associative Database and ...        NaN   \n",
       "1    10  1987  A Mean Field Theory of Layer IV of Visual Cort...        NaN   \n",
       "2   100  1988  Storing Covariance by the Associative Long-Ter...        NaN   \n",
       "3  1000  1994  Bayesian Query Construction for Neural Network...        NaN   \n",
       "4  1001  1994  Neural Network Ensembles, Cross Validation, an...        NaN   \n",
       "\n",
       "                                            pdf_name          abstract  \\\n",
       "0  1-self-organization-of-associative-database-an...  Abstract Missing   \n",
       "1  10-a-mean-field-theory-of-layer-iv-of-visual-c...  Abstract Missing   \n",
       "2  100-storing-covariance-by-the-associative-long...  Abstract Missing   \n",
       "3  1000-bayesian-query-construction-for-neural-ne...  Abstract Missing   \n",
       "4  1001-neural-network-ensembles-cross-validation...  Abstract Missing   \n",
       "\n",
       "                                          paper_text  \n",
       "0  767\\n\\nSELF-ORGANIZATION OF ASSOCIATIVE DATABA...  \n",
       "1  683\\n\\nA MEAN FIELD THEORY OF LAYER IV OF VISU...  \n",
       "2  394\\n\\nSTORING COVARIANCE BY THE ASSOCIATIVE\\n...  \n",
       "3  Bayesian Query Construction for Neural\\nNetwor...  \n",
       "4  Neural Network Ensembles, Cross\\nValidation, a...  "
      ]
     },
     "execution_count": 2,
     "metadata": {},
     "output_type": "execute_result"
    }
   ],
   "source": [
    "df = pd.read_csv('Data/papers.csv')\n",
    "print(df.shape)\n",
    "df.head()"
   ]
  },
  {
   "cell_type": "code",
   "execution_count": 3,
   "id": "e5282268",
   "metadata": {},
   "outputs": [
    {
     "data": {
      "text/plain": [
       "id               0\n",
       "year             0\n",
       "title            0\n",
       "event_type    4819\n",
       "pdf_name         0\n",
       "abstract         0\n",
       "paper_text       0\n",
       "dtype: int64"
      ]
     },
     "execution_count": 3,
     "metadata": {},
     "output_type": "execute_result"
    }
   ],
   "source": [
    "df.isna().sum()"
   ]
  },
  {
   "cell_type": "code",
   "execution_count": 4,
   "id": "84af58a3",
   "metadata": {},
   "outputs": [
    {
     "data": {
      "text/plain": [
       "3317"
      ]
     },
     "execution_count": 4,
     "metadata": {},
     "output_type": "execute_result"
    }
   ],
   "source": [
    "list(np.array(df['abstract'])).count('Abstract Missing')"
   ]
  },
  {
   "cell_type": "markdown",
   "id": "6f0e2c5a",
   "metadata": {},
   "source": [
    "# Preprocessing"
   ]
  },
  {
   "cell_type": "code",
   "execution_count": 5,
   "id": "860fbaff",
   "metadata": {},
   "outputs": [
    {
     "data": {
      "text/html": [
       "<div>\n",
       "<style scoped>\n",
       "    .dataframe tbody tr th:only-of-type {\n",
       "        vertical-align: middle;\n",
       "    }\n",
       "\n",
       "    .dataframe tbody tr th {\n",
       "        vertical-align: top;\n",
       "    }\n",
       "\n",
       "    .dataframe thead th {\n",
       "        text-align: right;\n",
       "    }\n",
       "</style>\n",
       "<table border=\"1\" class=\"dataframe\">\n",
       "  <thead>\n",
       "    <tr style=\"text-align: right;\">\n",
       "      <th></th>\n",
       "      <th>id</th>\n",
       "      <th>year</th>\n",
       "      <th>title</th>\n",
       "      <th>event_type</th>\n",
       "      <th>pdf_name</th>\n",
       "      <th>abstract</th>\n",
       "      <th>paper_text</th>\n",
       "      <th>text</th>\n",
       "    </tr>\n",
       "  </thead>\n",
       "  <tbody>\n",
       "    <tr>\n",
       "      <th>0</th>\n",
       "      <td>1</td>\n",
       "      <td>1987</td>\n",
       "      <td>Self-Organization of Associative Database and ...</td>\n",
       "      <td>NaN</td>\n",
       "      <td>1-self-organization-of-associative-database-an...</td>\n",
       "      <td>Abstract Missing</td>\n",
       "      <td>767\\n\\nSELF-ORGANIZATION OF ASSOCIATIVE DATABA...</td>\n",
       "      <td>Self-Organization of Associative Database and ...</td>\n",
       "    </tr>\n",
       "    <tr>\n",
       "      <th>1</th>\n",
       "      <td>10</td>\n",
       "      <td>1987</td>\n",
       "      <td>A Mean Field Theory of Layer IV of Visual Cort...</td>\n",
       "      <td>NaN</td>\n",
       "      <td>10-a-mean-field-theory-of-layer-iv-of-visual-c...</td>\n",
       "      <td>Abstract Missing</td>\n",
       "      <td>683\\n\\nA MEAN FIELD THEORY OF LAYER IV OF VISU...</td>\n",
       "      <td>A Mean Field Theory of Layer IV of Visual Cort...</td>\n",
       "    </tr>\n",
       "    <tr>\n",
       "      <th>2</th>\n",
       "      <td>100</td>\n",
       "      <td>1988</td>\n",
       "      <td>Storing Covariance by the Associative Long-Ter...</td>\n",
       "      <td>NaN</td>\n",
       "      <td>100-storing-covariance-by-the-associative-long...</td>\n",
       "      <td>Abstract Missing</td>\n",
       "      <td>394\\n\\nSTORING COVARIANCE BY THE ASSOCIATIVE\\n...</td>\n",
       "      <td>Storing Covariance by the Associative Long-Ter...</td>\n",
       "    </tr>\n",
       "    <tr>\n",
       "      <th>3</th>\n",
       "      <td>1000</td>\n",
       "      <td>1994</td>\n",
       "      <td>Bayesian Query Construction for Neural Network...</td>\n",
       "      <td>NaN</td>\n",
       "      <td>1000-bayesian-query-construction-for-neural-ne...</td>\n",
       "      <td>Abstract Missing</td>\n",
       "      <td>Bayesian Query Construction for Neural\\nNetwor...</td>\n",
       "      <td>Bayesian Query Construction for Neural Network...</td>\n",
       "    </tr>\n",
       "    <tr>\n",
       "      <th>4</th>\n",
       "      <td>1001</td>\n",
       "      <td>1994</td>\n",
       "      <td>Neural Network Ensembles, Cross Validation, an...</td>\n",
       "      <td>NaN</td>\n",
       "      <td>1001-neural-network-ensembles-cross-validation...</td>\n",
       "      <td>Abstract Missing</td>\n",
       "      <td>Neural Network Ensembles, Cross\\nValidation, a...</td>\n",
       "      <td>Neural Network Ensembles, Cross Validation, an...</td>\n",
       "    </tr>\n",
       "  </tbody>\n",
       "</table>\n",
       "</div>"
      ],
      "text/plain": [
       "     id  year                                              title event_type  \\\n",
       "0     1  1987  Self-Organization of Associative Database and ...        NaN   \n",
       "1    10  1987  A Mean Field Theory of Layer IV of Visual Cort...        NaN   \n",
       "2   100  1988  Storing Covariance by the Associative Long-Ter...        NaN   \n",
       "3  1000  1994  Bayesian Query Construction for Neural Network...        NaN   \n",
       "4  1001  1994  Neural Network Ensembles, Cross Validation, an...        NaN   \n",
       "\n",
       "                                            pdf_name          abstract  \\\n",
       "0  1-self-organization-of-associative-database-an...  Abstract Missing   \n",
       "1  10-a-mean-field-theory-of-layer-iv-of-visual-c...  Abstract Missing   \n",
       "2  100-storing-covariance-by-the-associative-long...  Abstract Missing   \n",
       "3  1000-bayesian-query-construction-for-neural-ne...  Abstract Missing   \n",
       "4  1001-neural-network-ensembles-cross-validation...  Abstract Missing   \n",
       "\n",
       "                                          paper_text  \\\n",
       "0  767\\n\\nSELF-ORGANIZATION OF ASSOCIATIVE DATABA...   \n",
       "1  683\\n\\nA MEAN FIELD THEORY OF LAYER IV OF VISU...   \n",
       "2  394\\n\\nSTORING COVARIANCE BY THE ASSOCIATIVE\\n...   \n",
       "3  Bayesian Query Construction for Neural\\nNetwor...   \n",
       "4  Neural Network Ensembles, Cross\\nValidation, a...   \n",
       "\n",
       "                                                text  \n",
       "0  Self-Organization of Associative Database and ...  \n",
       "1  A Mean Field Theory of Layer IV of Visual Cort...  \n",
       "2  Storing Covariance by the Associative Long-Ter...  \n",
       "3  Bayesian Query Construction for Neural Network...  \n",
       "4  Neural Network Ensembles, Cross Validation, an...  "
      ]
     },
     "execution_count": 5,
     "metadata": {},
     "output_type": "execute_result"
    }
   ],
   "source": [
    "# merge title and abstract\n",
    "df['text']=df.apply(lambda x: x['title']+((' ' + x['abstract']) if x['abstract']!='Abstract Missing' else ''), axis=1)\n",
    "df.head()"
   ]
  },
  {
   "cell_type": "code",
   "execution_count": 6,
   "id": "3b19545a",
   "metadata": {},
   "outputs": [
    {
     "data": {
      "text/html": [
       "<div>\n",
       "<style scoped>\n",
       "    .dataframe tbody tr th:only-of-type {\n",
       "        vertical-align: middle;\n",
       "    }\n",
       "\n",
       "    .dataframe tbody tr th {\n",
       "        vertical-align: top;\n",
       "    }\n",
       "\n",
       "    .dataframe thead th {\n",
       "        text-align: right;\n",
       "    }\n",
       "</style>\n",
       "<table border=\"1\" class=\"dataframe\">\n",
       "  <thead>\n",
       "    <tr style=\"text-align: right;\">\n",
       "      <th></th>\n",
       "      <th>year</th>\n",
       "      <th>text</th>\n",
       "    </tr>\n",
       "  </thead>\n",
       "  <tbody>\n",
       "    <tr>\n",
       "      <th>0</th>\n",
       "      <td>1987</td>\n",
       "      <td>Self-Organization of Associative Database and ...</td>\n",
       "    </tr>\n",
       "    <tr>\n",
       "      <th>1</th>\n",
       "      <td>1987</td>\n",
       "      <td>A Mean Field Theory of Layer IV of Visual Cort...</td>\n",
       "    </tr>\n",
       "    <tr>\n",
       "      <th>2</th>\n",
       "      <td>1988</td>\n",
       "      <td>Storing Covariance by the Associative Long-Ter...</td>\n",
       "    </tr>\n",
       "    <tr>\n",
       "      <th>3</th>\n",
       "      <td>1994</td>\n",
       "      <td>Bayesian Query Construction for Neural Network...</td>\n",
       "    </tr>\n",
       "    <tr>\n",
       "      <th>4</th>\n",
       "      <td>1994</td>\n",
       "      <td>Neural Network Ensembles, Cross Validation, an...</td>\n",
       "    </tr>\n",
       "  </tbody>\n",
       "</table>\n",
       "</div>"
      ],
      "text/plain": [
       "   year                                               text\n",
       "0  1987  Self-Organization of Associative Database and ...\n",
       "1  1987  A Mean Field Theory of Layer IV of Visual Cort...\n",
       "2  1988  Storing Covariance by the Associative Long-Ter...\n",
       "3  1994  Bayesian Query Construction for Neural Network...\n",
       "4  1994  Neural Network Ensembles, Cross Validation, an..."
      ]
     },
     "execution_count": 6,
     "metadata": {},
     "output_type": "execute_result"
    }
   ],
   "source": [
    "data = df[['year','text']]\n",
    "data.head()"
   ]
  },
  {
   "cell_type": "code",
   "execution_count": 7,
   "id": "56b25b1c",
   "metadata": {},
   "outputs": [
    {
     "data": {
      "text/html": [
       "<div>\n",
       "<style scoped>\n",
       "    .dataframe tbody tr th:only-of-type {\n",
       "        vertical-align: middle;\n",
       "    }\n",
       "\n",
       "    .dataframe tbody tr th {\n",
       "        vertical-align: top;\n",
       "    }\n",
       "\n",
       "    .dataframe thead th {\n",
       "        text-align: right;\n",
       "    }\n",
       "</style>\n",
       "<table border=\"1\" class=\"dataframe\">\n",
       "  <thead>\n",
       "    <tr style=\"text-align: right;\">\n",
       "      <th></th>\n",
       "      <th>year</th>\n",
       "      <th>text</th>\n",
       "    </tr>\n",
       "  </thead>\n",
       "  <tbody>\n",
       "    <tr>\n",
       "      <th>0</th>\n",
       "      <td>1987</td>\n",
       "      <td>self-organization of associative database and ...</td>\n",
       "    </tr>\n",
       "    <tr>\n",
       "      <th>1</th>\n",
       "      <td>1987</td>\n",
       "      <td>a mean field theory of layer iv of visual cort...</td>\n",
       "    </tr>\n",
       "    <tr>\n",
       "      <th>2</th>\n",
       "      <td>1988</td>\n",
       "      <td>storing covariance by the associative long-ter...</td>\n",
       "    </tr>\n",
       "    <tr>\n",
       "      <th>3</th>\n",
       "      <td>1994</td>\n",
       "      <td>bayesian query construction for neural network...</td>\n",
       "    </tr>\n",
       "    <tr>\n",
       "      <th>4</th>\n",
       "      <td>1994</td>\n",
       "      <td>neural network ensembles, cross validation, an...</td>\n",
       "    </tr>\n",
       "  </tbody>\n",
       "</table>\n",
       "</div>"
      ],
      "text/plain": [
       "   year                                               text\n",
       "0  1987  self-organization of associative database and ...\n",
       "1  1987  a mean field theory of layer iv of visual cort...\n",
       "2  1988  storing covariance by the associative long-ter...\n",
       "3  1994  bayesian query construction for neural network...\n",
       "4  1994  neural network ensembles, cross validation, an..."
      ]
     },
     "execution_count": 7,
     "metadata": {},
     "output_type": "execute_result"
    }
   ],
   "source": [
    "data[\"text\"] = data[\"text\"].astype(str)\n",
    "data[\"text\"] = data[\"text\"].str.lower()\n",
    "data.head()"
   ]
  },
  {
   "cell_type": "code",
   "execution_count": 8,
   "id": "748ca06f",
   "metadata": {},
   "outputs": [
    {
     "data": {
      "text/html": [
       "<div>\n",
       "<style scoped>\n",
       "    .dataframe tbody tr th:only-of-type {\n",
       "        vertical-align: middle;\n",
       "    }\n",
       "\n",
       "    .dataframe tbody tr th {\n",
       "        vertical-align: top;\n",
       "    }\n",
       "\n",
       "    .dataframe thead th {\n",
       "        text-align: right;\n",
       "    }\n",
       "</style>\n",
       "<table border=\"1\" class=\"dataframe\">\n",
       "  <thead>\n",
       "    <tr style=\"text-align: right;\">\n",
       "      <th></th>\n",
       "      <th>year</th>\n",
       "      <th>text</th>\n",
       "    </tr>\n",
       "  </thead>\n",
       "  <tbody>\n",
       "    <tr>\n",
       "      <th>0</th>\n",
       "      <td>1987</td>\n",
       "      <td>self-organization of associative database and ...</td>\n",
       "    </tr>\n",
       "    <tr>\n",
       "      <th>1</th>\n",
       "      <td>1987</td>\n",
       "      <td>a mean field theory of layer iv of visual cort...</td>\n",
       "    </tr>\n",
       "    <tr>\n",
       "      <th>2</th>\n",
       "      <td>1988</td>\n",
       "      <td>storing covariance by the associative long-ter...</td>\n",
       "    </tr>\n",
       "    <tr>\n",
       "      <th>3</th>\n",
       "      <td>1994</td>\n",
       "      <td>bayesian query construction for neural network...</td>\n",
       "    </tr>\n",
       "    <tr>\n",
       "      <th>4</th>\n",
       "      <td>1994</td>\n",
       "      <td>neural network ensembles, cross validation, an...</td>\n",
       "    </tr>\n",
       "  </tbody>\n",
       "</table>\n",
       "</div>"
      ],
      "text/plain": [
       "   year                                               text\n",
       "0  1987  self-organization of associative database and ...\n",
       "1  1987  a mean field theory of layer iv of visual cort...\n",
       "2  1988  storing covariance by the associative long-ter...\n",
       "3  1994  bayesian query construction for neural network...\n",
       "4  1994  neural network ensembles, cross validation, an..."
      ]
     },
     "execution_count": 8,
     "metadata": {},
     "output_type": "execute_result"
    }
   ],
   "source": [
    "import re\n",
    "def remove_url(text):\n",
    "    url_pat = re.compile(r'https?://\\S+|www\\.\\S+')\n",
    "    return url_pat.sub(r'', text)\n",
    "data[\"text\"] = data[\"text\"].apply(lambda text: remove_url(text))\n",
    "data.head()"
   ]
  },
  {
   "cell_type": "code",
   "execution_count": 9,
   "id": "f2ad5728",
   "metadata": {},
   "outputs": [
    {
     "name": "stderr",
     "output_type": "stream",
     "text": [
      "[nltk_data] Downloading package wordnet to /DATA/kumar156/nltk_data...\n",
      "[nltk_data]   Package wordnet is already up-to-date!\n"
     ]
    },
    {
     "data": {
      "text/html": [
       "<div>\n",
       "<style scoped>\n",
       "    .dataframe tbody tr th:only-of-type {\n",
       "        vertical-align: middle;\n",
       "    }\n",
       "\n",
       "    .dataframe tbody tr th {\n",
       "        vertical-align: top;\n",
       "    }\n",
       "\n",
       "    .dataframe thead th {\n",
       "        text-align: right;\n",
       "    }\n",
       "</style>\n",
       "<table border=\"1\" class=\"dataframe\">\n",
       "  <thead>\n",
       "    <tr style=\"text-align: right;\">\n",
       "      <th></th>\n",
       "      <th>year</th>\n",
       "      <th>text</th>\n",
       "    </tr>\n",
       "  </thead>\n",
       "  <tbody>\n",
       "    <tr>\n",
       "      <th>0</th>\n",
       "      <td>1987</td>\n",
       "      <td>self-organization of associative database and ...</td>\n",
       "    </tr>\n",
       "    <tr>\n",
       "      <th>1</th>\n",
       "      <td>1987</td>\n",
       "      <td>a mean field theory of layer iv of visual cort...</td>\n",
       "    </tr>\n",
       "    <tr>\n",
       "      <th>2</th>\n",
       "      <td>1988</td>\n",
       "      <td>storing covariance by the associative long-ter...</td>\n",
       "    </tr>\n",
       "    <tr>\n",
       "      <th>3</th>\n",
       "      <td>1994</td>\n",
       "      <td>bayesian query construction for neural network...</td>\n",
       "    </tr>\n",
       "    <tr>\n",
       "      <th>4</th>\n",
       "      <td>1994</td>\n",
       "      <td>neural network ensembles, cross validation, an...</td>\n",
       "    </tr>\n",
       "  </tbody>\n",
       "</table>\n",
       "</div>"
      ],
      "text/plain": [
       "   year                                               text\n",
       "0  1987  self-organization of associative database and ...\n",
       "1  1987  a mean field theory of layer iv of visual cort...\n",
       "2  1988  storing covariance by the associative long-ter...\n",
       "3  1994  bayesian query construction for neural network...\n",
       "4  1994  neural network ensembles, cross validation, an..."
      ]
     },
     "execution_count": 9,
     "metadata": {},
     "output_type": "execute_result"
    }
   ],
   "source": [
    "import nltk\n",
    "nltk.download('wordnet')\n",
    "from nltk.stem import WordNetLemmatizer as wnl\n",
    "lemm = wnl()\n",
    "def lemm_words(text):\n",
    "    return \" \".join([lemm.lemmatize(word) for word in text.split()])\n",
    "\n",
    "data[\"text\"] = data[\"text\"].apply(lambda text: lemm_words(text))\n",
    "data.head()"
   ]
  },
  {
   "cell_type": "code",
   "execution_count": 10,
   "id": "f8bd4909",
   "metadata": {},
   "outputs": [
    {
     "name": "stderr",
     "output_type": "stream",
     "text": [
      "[nltk_data] Downloading package stopwords to\n",
      "[nltk_data]     /DATA/kumar156/nltk_data...\n",
      "[nltk_data]   Package stopwords is already up-to-date!\n"
     ]
    },
    {
     "data": {
      "text/html": [
       "<div>\n",
       "<style scoped>\n",
       "    .dataframe tbody tr th:only-of-type {\n",
       "        vertical-align: middle;\n",
       "    }\n",
       "\n",
       "    .dataframe tbody tr th {\n",
       "        vertical-align: top;\n",
       "    }\n",
       "\n",
       "    .dataframe thead th {\n",
       "        text-align: right;\n",
       "    }\n",
       "</style>\n",
       "<table border=\"1\" class=\"dataframe\">\n",
       "  <thead>\n",
       "    <tr style=\"text-align: right;\">\n",
       "      <th></th>\n",
       "      <th>year</th>\n",
       "      <th>text</th>\n",
       "    </tr>\n",
       "  </thead>\n",
       "  <tbody>\n",
       "    <tr>\n",
       "      <th>0</th>\n",
       "      <td>1987</td>\n",
       "      <td>self-organization associative database applica...</td>\n",
       "    </tr>\n",
       "    <tr>\n",
       "      <th>1</th>\n",
       "      <td>1987</td>\n",
       "      <td>mean field theory layer iv visual cortex appli...</td>\n",
       "    </tr>\n",
       "    <tr>\n",
       "      <th>2</th>\n",
       "      <td>1988</td>\n",
       "      <td>storing covariance associative long-term poten...</td>\n",
       "    </tr>\n",
       "    <tr>\n",
       "      <th>3</th>\n",
       "      <td>1994</td>\n",
       "      <td>bayesian query construction neural network model</td>\n",
       "    </tr>\n",
       "    <tr>\n",
       "      <th>4</th>\n",
       "      <td>1994</td>\n",
       "      <td>neural network ensembles, cross validation, ac...</td>\n",
       "    </tr>\n",
       "  </tbody>\n",
       "</table>\n",
       "</div>"
      ],
      "text/plain": [
       "   year                                               text\n",
       "0  1987  self-organization associative database applica...\n",
       "1  1987  mean field theory layer iv visual cortex appli...\n",
       "2  1988  storing covariance associative long-term poten...\n",
       "3  1994   bayesian query construction neural network model\n",
       "4  1994  neural network ensembles, cross validation, ac..."
      ]
     },
     "execution_count": 10,
     "metadata": {},
     "output_type": "execute_result"
    }
   ],
   "source": [
    "from nltk.corpus import stopwords\n",
    "nltk.download('stopwords')\n",
    "sw = set(stopwords.words('english'))\n",
    "def rem_sw(text):\n",
    "    return \" \".join([word for word in str(text).split() if word not in sw])\n",
    "\n",
    "data[\"text\"] = data[\"text\"].apply(lambda text: rem_sw(text))\n",
    "data.head()"
   ]
  },
  {
   "cell_type": "markdown",
   "id": "feff2a49",
   "metadata": {},
   "source": [
    "# Data Intervals"
   ]
  },
  {
   "cell_type": "code",
   "execution_count": 11,
   "id": "2478d1a1",
   "metadata": {},
   "outputs": [
    {
     "data": {
      "text/plain": [
       "(1987, 2017)"
      ]
     },
     "execution_count": 11,
     "metadata": {},
     "output_type": "execute_result"
    }
   ],
   "source": [
    "min(data.year),max(data.year)"
   ]
  },
  {
   "cell_type": "code",
   "execution_count": 12,
   "id": "bda2d388",
   "metadata": {},
   "outputs": [],
   "source": [
    "doc = defaultdict(lambda:'')\n",
    "for i in range(len(data)):\n",
    "    interval = (data['year'][i] -min(data.year))//3+1\n",
    "    doc[f't{interval}'] += (' ' + data['text'][i])\n",
    "    #doc[f't{interval}'] += data['text'][i]"
   ]
  },
  {
   "cell_type": "code",
   "execution_count": 13,
   "id": "ce2b5aa6",
   "metadata": {},
   "outputs": [
    {
     "data": {
      "text/plain": [
       "dict_keys(['t1', 't3', 't4', 't5', 't6', 't7', 't2', 't8', 't9', 't10', 't11'])"
      ]
     },
     "execution_count": 13,
     "metadata": {},
     "output_type": "execute_result"
    }
   ],
   "source": [
    "doc.keys()"
   ]
  },
  {
   "cell_type": "code",
   "execution_count": 14,
   "id": "f4a4eb2b",
   "metadata": {},
   "outputs": [
    {
     "name": "stdout",
     "output_type": "stream",
     "text": [
      "[15799, 24179, 24917, 25734, 26843, 32158, 104738, 617860, 821276, 1188958, 595982]\n"
     ]
    }
   ],
   "source": [
    "print([len(doc[f't{i}']) for i in range(1,12)])"
   ]
  },
  {
   "cell_type": "markdown",
   "id": "6c9995a7",
   "metadata": {},
   "source": [
    "# Keyword extraction using Bert"
   ]
  },
  {
   "cell_type": "code",
   "execution_count": 15,
   "id": "319edbec",
   "metadata": {},
   "outputs": [
    {
     "data": {
      "text/plain": [
       "device(type='cuda')"
      ]
     },
     "execution_count": 15,
     "metadata": {},
     "output_type": "execute_result"
    }
   ],
   "source": [
    "os.environ[\"CUDA_DEVICE_ORDER\"]=\"PCI_BUS_ID\"  \n",
    "os.environ[\"CUDA_VISIBLE_DEVICES\"]=\"3\"\n",
    "device = torch.device(\"cuda\" if torch.cuda.is_available() else \"cpu\")\n",
    "device"
   ]
  },
  {
   "cell_type": "code",
   "execution_count": 18,
   "id": "3d2925dc",
   "metadata": {},
   "outputs": [
    {
     "data": {
      "text/plain": [
       "\"\\nfrom keybert import KeyBERT\\nkw_model = KeyBERT('distilbert-base-nli-mean-tokens')\\nkeywords = {}\\nfor i in range(1,12):\\n    words = kw_model.extract_keywords(doc[f't{i}'], keyphrase_ngram_range=(1, 1), stop_words='english',\\n                                  use_mmr=True, nr_candidates=25, top_n=15)  # mmr, no candidates\\n    keywords[i]=[a for a,b in words]\\n    \\n    words = kw_model.extract_keywords(doc[f't{i}'], keyphrase_ngram_range=(2, 2), stop_words='english',\\n                                  use_mmr=True, nr_candidates=20, top_n=10)\\n    keywords[i]+=[a for a,b in words]\\n\\nwith open('keywords25_bi.pickle', 'wb') as handle:\\n    pickle.dump(keywords, handle, protocol=pickle.HIGHEST_PROTOCOL)  \\n\""
      ]
     },
     "execution_count": 18,
     "metadata": {},
     "output_type": "execute_result"
    }
   ],
   "source": [
    "'''\n",
    "from keybert import KeyBERT\n",
    "kw_model = KeyBERT('distilbert-base-nli-mean-tokens')\n",
    "keywords = {}\n",
    "for i in range(1,12):\n",
    "    words = kw_model.extract_keywords(doc[f't{i}'], keyphrase_ngram_range=(1, 1), stop_words='english',\n",
    "                                  use_mmr=True, nr_candidates=25, top_n=15)  # mmr, no candidates\n",
    "    keywords[i]=[a for a,b in words]\n",
    "    \n",
    "    words = kw_model.extract_keywords(doc[f't{i}'], keyphrase_ngram_range=(2, 2), stop_words='english',\n",
    "                                  use_mmr=True, nr_candidates=20, top_n=10)\n",
    "    keywords[i]+=[a for a,b in words]\n",
    "\n",
    "with open('keywords25_bi.pickle', 'wb') as handle:\n",
    "    pickle.dump(keywords, handle, protocol=pickle.HIGHEST_PROTOCOL)  \n",
    "'''"
   ]
  },
  {
   "cell_type": "code",
   "execution_count": 16,
   "id": "886ba127",
   "metadata": {},
   "outputs": [],
   "source": [
    "# this pickle file contain 30 monogramic keywords for each time interval: t1-t11 with keys 1 to 11.\n",
    "with open('keywords30_mono.pickle', 'rb') as handle:\n",
    "    keywords = pickle.load(handle)"
   ]
  },
  {
   "cell_type": "code",
   "execution_count": 17,
   "id": "10205600",
   "metadata": {},
   "outputs": [
    {
     "name": "stdout",
     "output_type": "stream",
     "text": [
      "['neurocomputer', 'orientation', 'classifiers', 'iteration', 'letterforms', 'backpropagation', 'reconfigurable', 'muscle', 'activation', 'frequency', 'sexnet', 'multiscale', 'functions', 'memorization', 'controller', 'modeling', 'cochlear', 'manipulator', 'eigenvectors', 'cues', 'dynamical', 'perceptrons', 'splining', 'retinal', 'recnorm', 'decoding', 'reliability', 'physiological', 'anna', 'search']\n"
     ]
    }
   ],
   "source": [
    "# display keywords of time interval t2.\n",
    "print(keywords[2])"
   ]
  },
  {
   "cell_type": "code",
   "execution_count": 18,
   "id": "514f3e3f",
   "metadata": {},
   "outputs": [
    {
     "data": {
      "text/plain": [
       "276"
      ]
     },
     "execution_count": 18,
     "metadata": {},
     "output_type": "execute_result"
    }
   ],
   "source": [
    "all_keywords = []\n",
    "for i in range(1,12):\n",
    "    all_keywords+=keywords[i]\n",
    "all_keywords = list(set(all_keywords))\n",
    "len(all_keywords)"
   ]
  },
  {
   "cell_type": "markdown",
   "id": "e951b655",
   "metadata": {},
   "source": [
    "# Degree of Visibility\n",
    "\n",
    "We are calculate the Dov values of the keywords and the x-coordinate values of KEM matrix. In the code 'nj' represents total number of documents in the interval. The first 10 intervals contain data of 3 years each, 11th interval contains data of 2 years (processed in the else section of the code).\n",
    "\n",
    "To get x-coordinate values, we intialize a 'val' variable, which sums up the total frequency of keyword in each interval. It is divided by the total number of documents to get average term frequency."
   ]
  },
  {
   "cell_type": "code",
   "execution_count": 19,
   "id": "3e7106ff",
   "metadata": {},
   "outputs": [
    {
     "name": "stdout",
     "output_type": "stream",
     "text": [
      "[[0.         0.         0.         ... 0.         0.         0.        ]\n",
      " [0.         0.00120773 0.         ... 0.00739845 0.00390456 0.00076122]\n",
      " [0.         0.         0.         ... 0.0016441  0.         0.        ]\n",
      " ...\n",
      " [0.         0.         0.         ... 0.00246615 0.         0.        ]\n",
      " [0.         0.         0.00122222 ... 0.         0.00065076 0.        ]\n",
      " [0.00157895 0.         0.00122222 ... 0.         0.         0.        ]]\n"
     ]
    }
   ],
   "source": [
    "dov = np.zeros((len(all_keywords),11))\n",
    "min_year = min(data.year)\n",
    "C = Counter(list(np.array(df.year)))\n",
    "X = []\n",
    "\n",
    "for i in range(len(all_keywords)):\n",
    "    val = 0\n",
    "    for j in range(max(keywords.keys())):\n",
    "        if j<10: #t1-t10 time intervals\n",
    "            year = min_year+3*j\n",
    "            nj =C[year]+C[year+1]+C[year+2]\n",
    "            dov[i][j] = (doc[f't{j+1}'].count(all_keywords[i]))\n",
    "            val+=dov[i][j]\n",
    "            dov[i][j]/=nj\n",
    "            \n",
    "        else: # t11 time interval\n",
    "            year = max(df.year)\n",
    "            nj = C[year]+C[year-1]\n",
    "            dov[i][j] = (doc[f't{j+1}'].count(all_keywords[i]))\n",
    "            val+=dov[i][j]\n",
    "            dov[i][j]/=nj\n",
    "        \n",
    "        dov[i][j] *= (1-0.05*(max(keywords.keys())-j))\n",
    "    X.append(val/len(data))\n",
    "print(dov)"
   ]
  },
  {
   "cell_type": "markdown",
   "id": "cce72130",
   "metadata": {},
   "source": [
    "# Keyword Emergence Map\n",
    "\n",
    "The length of x and y arrays of KIM matrix should be same as the number of unique words in our keyword collection. If dod value is non-zero for a particular keyword, we are considering those words for geometric-mean in calculation of KEM matrix. 'ans' variable multiplies all the non-zero dov terms for a particular keyword and nums count the number of such dov's involved. We then take the geometric mean and append it in list Y. "
   ]
  },
  {
   "cell_type": "code",
   "execution_count": 20,
   "id": "b121205f",
   "metadata": {},
   "outputs": [
    {
     "name": "stdout",
     "output_type": "stream",
     "text": [
      "276 276\n"
     ]
    }
   ],
   "source": [
    "# \n",
    "Y = []\n",
    "\n",
    "for i in range(len(all_keywords)):\n",
    "        word = all_keywords[i]\n",
    "        ans = 1\n",
    "        nums = 0\n",
    "        for k in range(max(keywords.keys())):\n",
    "            if dov[i][k]>0:\n",
    "                ans*=dov[i][k]\n",
    "                nums+=1\n",
    "        if nums==0:\n",
    "            Y.append(0)\n",
    "            continue\n",
    "        Y.append(ans**(1/nums))\n",
    "print(len(X),len(Y))"
   ]
  },
  {
   "cell_type": "code",
   "execution_count": 21,
   "id": "560226a0",
   "metadata": {},
   "outputs": [],
   "source": [
    "kem_mat = [(X[i],Y[i]) for i in range(len(X))]"
   ]
  },
  {
   "cell_type": "code",
   "execution_count": 22,
   "id": "b868ea04",
   "metadata": {},
   "outputs": [
    {
     "data": {
      "image/png": "[encoded data removed]",
      "text/plain": [
       "<Figure size 432x288 with 1 Axes>"
      ]
     },
     "metadata": {
      "needs_background": "light"
     },
     "output_type": "display_data"
    }
   ],
   "source": [
    "for i in range(len(kem_mat)):\n",
    "    if kem_mat[i][0]>=0.4:\n",
    "        plt.scatter(kem_mat[i][0],kem_mat[i][1],label = all_keywords[i])\n",
    "        plt.legend()\n",
    "        continue\n",
    "    plt.scatter(kem_mat[i][0],kem_mat[i][1])\n",
    "plt.title('Keyword Emergence Map')\n",
    "plt.show()"
   ]
  },
  {
   "cell_type": "markdown",
   "id": "6fd1135a",
   "metadata": {},
   "source": [
    "# Degree of Diffusion\n",
    "\n",
    "We are calculate the Dod values of the keywords and the x-coordinate values of KIM matrix. In the code 'nj' represents total number of documents in the interval. The first 10 intervals contain data of 3 years each, 11th interval contains data of 2 years (processed in the else section of the code).\n",
    "\n",
    "To get x-coordinate values, we intialize a 'val' variable, which sums up the document frequency in each interval. It is divided by the total number of documents to get average document frequency."
   ]
  },
  {
   "cell_type": "code",
   "execution_count": 23,
   "id": "1ddb7525",
   "metadata": {},
   "outputs": [
    {
     "name": "stdout",
     "output_type": "stream",
     "text": [
      "[[0.         0.         0.         ... 0.         0.         0.        ]\n",
      " [0.         0.00120773 0.         ... 0.0016441  0.00195228 0.00139912]\n",
      " [0.         0.         0.         ... 0.00082205 0.         0.        ]\n",
      " ...\n",
      " [0.         0.         0.         ... 0.0016441  0.         0.        ]\n",
      " [0.         0.         0.00122222 ... 0.         0.00065076 0.        ]\n",
      " [0.00157895 0.         0.00122222 ... 0.         0.         0.        ]]\n"
     ]
    }
   ],
   "source": [
    "dod = np.zeros((len(all_keywords),11))\n",
    "X = []\n",
    "\n",
    "for i in range(len(all_keywords)):\n",
    "    val = 0\n",
    "    for j in range(max(keywords.keys())):\n",
    "        if j<=10:\n",
    "            year = min_year+3*j\n",
    "            nj =C[year]+C[year+1]+C[year+2]\n",
    "            \n",
    "            DF=0 # document frequency\n",
    "            for ind in range(len(data)):\n",
    "                if year<=data.year[ind]<year+3 and all_keywords[i] in data.text[ind]:\n",
    "                    DF+=1\n",
    "            val+=DF\n",
    "            dod[i][j] = DF/nj\n",
    "        \n",
    "        else: \n",
    "            year = max(df.year)\n",
    "            nj = C[year]+C[year-1]\n",
    "            \n",
    "            DF=0 # document frequency\n",
    "            for ind in range(len(data)):\n",
    "                if year-1<=data.year[ind] and all_keywords[i] in data.text[ind]:\n",
    "                    DF+=1\n",
    "            val+=DF\n",
    "            dod[i][j] =DF/nj\n",
    "        \n",
    "        dod[i][j] *= (1-0.05*(max(keywords.keys())-j))\n",
    "    \n",
    "    X.append(val/len(data))\n",
    "    \n",
    "dod = np.array(dod)\n",
    "print(dod)"
   ]
  },
  {
   "cell_type": "markdown",
   "id": "4ee4dfdc",
   "metadata": {},
   "source": [
    "# Keyword Issue Map\n",
    "\n",
    "The length of x and y arrays of KIM matrix should be same as the number of unique words in our keyword collection. If dod value is non-zero for a particular keyword, we are considering those words for averaging in calculation of KIM matrix. "
   ]
  },
  {
   "cell_type": "code",
   "execution_count": 24,
   "id": "ca53e6d8",
   "metadata": {},
   "outputs": [
    {
     "name": "stdout",
     "output_type": "stream",
     "text": [
      "276 276\n"
     ]
    }
   ],
   "source": [
    "Y = []\n",
    "\n",
    "for i in range(len(all_keywords)):\n",
    "    \n",
    "        word = all_keywords[i]\n",
    "        vals = [dod[i][j] for j in range(max(keywords.keys())) if dod[i][j]>0]\n",
    "        if len(vals)==0:\n",
    "            #print(word)\n",
    "            Y.append(0)\n",
    "            continue\n",
    "            \n",
    "        Y.append(sum(vals)/len(vals)) #averaging\n",
    "print(len(X),len(Y))"
   ]
  },
  {
   "cell_type": "code",
   "execution_count": 25,
   "id": "a19cb092",
   "metadata": {},
   "outputs": [],
   "source": [
    "kim_mat = [(X[i],Y[i]) for i in range(len(X))]"
   ]
  },
  {
   "cell_type": "code",
   "execution_count": 32,
   "id": "d871e865",
   "metadata": {},
   "outputs": [
    {
     "data": {
      "image/png": "[encoded data removed]",
      "text/plain": [
       "<Figure size 432x288 with 1 Axes>"
      ]
     },
     "metadata": {
      "needs_background": "light"
     },
     "output_type": "display_data"
    }
   ],
   "source": [
    "for i in range(len(X)):\n",
    "    if X[i]>=0.1:\n",
    "        plt.scatter(X[i],Y[i],label = all_keywords[i])\n",
    "        plt.legend()\n",
    "        continue\n",
    "    plt.scatter(X[i],Y[i])\n",
    "plt.title('Keyword Issue Map')\n",
    "plt.show()"
   ]
  },
  {
   "cell_type": "markdown",
   "id": "e49057ba",
   "metadata": {},
   "source": [
    "# Intersections"
   ]
  },
  {
   "cell_type": "code",
   "execution_count": 27,
   "id": "91b9d246",
   "metadata": {},
   "outputs": [],
   "source": [
    "kem = sorted(kem_mat)\n",
    "kim = sorted(kim_mat)"
   ]
  },
  {
   "cell_type": "code",
   "execution_count": 28,
   "id": "fc2f601d",
   "metadata": {},
   "outputs": [],
   "source": [
    "# medians\n",
    "\n",
    "l = len(kem)\n",
    "if l%2:\n",
    "    medx_kem = kem[l//2][0]\n",
    "    medx_kim = kim[l//2][0]\n",
    "else:\n",
    "    medx_kem = (kem[l//2][0]+kem[l//2-1][0])/2\n",
    "    medx_kim = (kim[l//2][0]+kim[l//2-1][0])/2\n",
    "    \n",
    "kem = sorted(kem,key = lambda a: a[1])\n",
    "kim = sorted(kim,key = lambda a: a[1])\n",
    "\n",
    "if l%2:\n",
    "    medy_kem = kem[l//2][1]\n",
    "    medy_kim = kim[l//2][1]\n",
    "else:\n",
    "    medy_kem = (kem[l//2][1]+kem[l//2-1][1])/2\n",
    "    medy_kim = (kim[l//2][1]+kim[l//2-1][1])/2"
   ]
  },
  {
   "cell_type": "code",
   "execution_count": 29,
   "id": "a973fb5c",
   "metadata": {},
   "outputs": [],
   "source": [
    "latent_signal = []\n",
    "weak_signal = []\n",
    "strong_signal = []\n",
    "not_strong_but_well_known = []\n",
    "\n",
    "for i in range(l):\n",
    "    if kem_mat[i][0]>medx_kem and kim_mat[i][0]>medx_kim:\n",
    "        if kem_mat[i][1]>medy_kem and kim_mat[i][1]>medy_kim:\n",
    "            strong_signal.append(all_keywords[i])\n",
    "            \n",
    "        if kem_mat[i][1]<medy_kem and kim_mat[i][1]<medy_kim:\n",
    "            not_strong_but_well_known.append(all_keywords[i])\n",
    "            \n",
    "    if kem_mat[i][0]<medx_kem and kim_mat[i][0]<medx_kim:\n",
    "        if kem_mat[i][1]>medy_kem and kim_mat[i][1]>medy_kim:\n",
    "            weak_signal.append(all_keywords[i])\n",
    "            \n",
    "        if kem_mat[i][1]<medy_kem and kim_mat[i][1]<medy_kim:\n",
    "            latent_signal.append(all_keywords[i])"
   ]
  },
  {
   "cell_type": "code",
   "execution_count": 33,
   "id": "596edbc2",
   "metadata": {},
   "outputs": [
    {
     "name": "stdout",
     "output_type": "stream",
     "text": [
      "Strong signal: ['classify', 'auxiliary', 'probabilistic', 'physiological', 'search', 'automated', 'integration', 'routine', 'kernel', 'transductive', 'noising', 'learns', 'multivariate', 'mcmc', 'multitask', 'extraction', 'blockmodel', 'decoder', 'integrate', 'variational', 'column', 'mixture', 'reliability', 'manual', 'backpropagation', 'orientation', 'quantization', 'memory', 'analytic', 'datasets', 'grouping', 'mse', 'programming', 'frequency', 'discus', 'gate', 'hmms', 'ising', 'modelling', 'discretization', 'optimum', 'training', 'navigation', 'lstm', 'serve', 'dynamical', 'select', 'tive', 'mle', 'semidefinite', 'bipartite', 'characteristic', 'dynamic', 'filtering', 'forecasting', 'likelihood', 'copula', 'rnns', 'devise', 'ranking', 'dataset', 'multilayer', 'eigenvectors', 'ridge', 'handwritten', 'modeling', 'sensor', 'recognition', 'nonlinearities', 'hessian', 'empirical', 'convergence', 'perceptrons', 'backprop', 'minimizer', 'require', 'cognitive', 'iterative', 'patterns', 'protein', 'benchmarks', 'dynamically', 'ica', 'especially', 'rnn', 'learnable', 'controller', 'distance', 'boost', 'decoding', 'np', 'embeddings', 'architectures', 'selects', 'hierarchical', 'identifiability', 'encoder', 'iteration', 'specialized', 'tuning', 'functions', 'gaussian', 'classifiers', 'parameterize', 'discount', 'robot', 'svms', 'hebb', 'average', 'activation', 'leveraging', 'rotation', 'integrates', 'neuron', 'classifier', 'incremental', 'batch', 'multimodal', 'reinforcement', 'cluster', 'autoencoders', 'multiscale']\n"
     ]
    }
   ],
   "source": [
    "print('Strong signal:',strong_signal)"
   ]
  },
  {
   "cell_type": "code",
   "execution_count": 34,
   "id": "cc0973a0",
   "metadata": {},
   "outputs": [
    {
     "name": "stdout",
     "output_type": "stream",
     "text": [
      "Weak signal: ['i100', 'kanji', 'requirements', 'gesture', 'tensorflow']\n"
     ]
    }
   ],
   "source": [
    "print('Weak signal:', weak_signal)"
   ]
  },
  {
   "cell_type": "code",
   "execution_count": 35,
   "id": "9c028df3",
   "metadata": {},
   "outputs": [
    {
     "name": "stdout",
     "output_type": "stream",
     "text": [
      "Not Strong But Well Known: ['retinal', 'anytime', 'synapse', 'classifying', 'markovian']\n"
     ]
    }
   ],
   "source": [
    "print('Not Strong But Well Known:',not_strong_but_well_known)"
   ]
  },
  {
   "cell_type": "code",
   "execution_count": 36,
   "id": "8f78c31a",
   "metadata": {},
   "outputs": [
    {
     "name": "stdout",
     "output_type": "stream",
     "text": [
      "Latent Signal: ['gaussianization', 'kbsvms', 'neurocomputer', 'zype', 'infant', 'superpixels', '1993', 'sde', 'exif', 'long_algorithms_2013', 'memorization', 'rankprop', 'stepwise', 'autoassociator', 'datamatrix', 'wavelets', 'speechreading', 'locomotory', 'multisite', 'manipulator', 'cochlear', 'dialysis', 'electroencephalographic', 'unfolding', 'emulation', 'gestures', 'anna', 'subsampled', '21578', 'muscle', 'helicopter', 'optoelectronic', 'synergistic', 'mainlifting', 'emulates', 'holistic', 'footnote', 'factorizing', 'audiometric', 'jain', 'neurophysiological', 'reconfigurable', '10184', 'accumulator', 'letterforms', 'approximability', 'lqg', 'spectrogram', 'abstracts', 'aibo', 'reconfigurability', 'kolmogorov', 'hill', 'millisecond', 'pulsestream', 'echolocating', 'benchmarking', 'phonetic', 'supermodularity', 'factorie', 'piezometer', 'sparsemax', 'simplemkl', 'wmt', 'berthet2013computational', 'eigenmaps', 'logconcave', 'subgrouping', 'blockmodels', 'matlab', 'sexnet', 'ssth', 'recnorm', 'nagumo', 'fractal', 'electroencephalogram', 'sodium', 'sigmoidal', 'matchingexpectations', 'batra', 'percentile', 'thud', 'resnet152', 'controllable', 'optimizers', 'metabolomics', 'topdown', 'recipes', 'microelectronic', 'impaired', 'fitc', 'songs', 'badanidiyuru', 'ucsd', 'knapsack', 'elegans', 'automaton', 'logitboost', 'gacv', 'connectomics', 'electrotonic', 'inforamtion', 'cvp', 'arrhythmia', 'psoms', 'ecg', 'algorithmthat', 'dataflow', 'memorize', 'movielens', 'splining', 'tokamak', 'agrees', 'interneurons', 'neuromodulation']\n"
     ]
    }
   ],
   "source": [
    "print('Latent Signal:', latent_signal)"
   ]
  },
  {
   "cell_type": "code",
   "execution_count": null,
   "id": "2fea3c86",
   "metadata": {},
   "outputs": [],
   "source": []
  }
 ],
 "metadata": {
  "kernelspec": {
   "display_name": "Python 3 (ipykernel)",
   "language": "python",
   "name": "python3"
  },
  "language_info": {
   "codemirror_mode": {
    "name": "ipython",
    "version": 3
   },
   "file_extension": ".py",
   "mimetype": "text/x-python",
   "name": "python",
   "nbconvert_exporter": "python",
   "pygments_lexer": "ipython3",
   "version": "3.7.3"
  }
 },
 "nbformat": 4,
 "nbformat_minor": 5
}
